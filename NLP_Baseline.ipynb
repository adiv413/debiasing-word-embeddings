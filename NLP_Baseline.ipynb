{
  "nbformat": 4,
  "nbformat_minor": 0,
  "metadata": {
    "colab": {
      "name": "NLP_Baseline.ipynb",
      "provenance": [],
      "collapsed_sections": []
    },
    "kernelspec": {
      "name": "python3",
      "display_name": "Python 3"
    },
    "language_info": {
      "name": "python"
    }
  },
  "cells": [
    {
      "cell_type": "code",
      "metadata": {
        "id": "eUX5jdJRHAEj"
      },
      "source": [
        "# https://petamind.com/word2vec-with-tensorflow-2-0-a-simple-cbow-implementation/"
      ],
      "execution_count": null,
      "outputs": []
    },
    {
      "cell_type": "code",
      "metadata": {
        "id": "-RbQbEvMHhkl",
        "colab": {
          "base_uri": "https://localhost:8080/"
        },
        "outputId": "48ba99ba-9659-4636-f024-65972bb97e0d"
      },
      "source": [
        "from __future__ import absolute_import, division, print_function, unicode_literals\n",
        "try:\n",
        "  # %tensorflow_version only exists in Colab.\n",
        "  %tensorflow_version 2.x\n",
        "except Exception:\n",
        "  pass\n",
        "import tensorflow as tf\n",
        "import numpy as np\n",
        "print(tf.__version__)\n",
        "##Output\n",
        "#TensorFlow 2.x selected.\n",
        "#2.0.0-rc2"
      ],
      "execution_count": null,
      "outputs": [
        {
          "output_type": "stream",
          "name": "stdout",
          "text": [
            "2.7.0\n"
          ]
        }
      ]
    },
    {
      "cell_type": "code",
      "metadata": {
        "id": "EwKbZttyuA5B"
      },
      "source": [
        "class Word2Vec:\n",
        "  def __init__(self, vocab_size=0, embedding_dim=16, optimizer='sgd', epochs=10000):\n",
        "    self.vocab_size=vocab_size\n",
        "    self.embedding_dim=5\n",
        "    self.epochs=epochs\n",
        "    if optimizer=='adam':\n",
        "      self.optimizer = tf.optimizers.Adam()\n",
        "    else:\n",
        "      self.optimizer = tf.optimizers.SGD(learning_rate=0.1)\n",
        "  \n",
        "  def train(self, x_train=None, y_train=None):\n",
        "    self.W1 = tf.Variable(tf.random.normal([self.vocab_size, self.embedding_dim]))\n",
        "    self.b1 = tf.Variable(tf.random.normal([self.embedding_dim])) #bias\n",
        "    self.W2 = tf.Variable(tf.random.normal([self.embedding_dim, self.vocab_size]))\n",
        "    self.b2 = tf.Variable(tf.random.normal([self.vocab_size]))\n",
        "    for _ in range(self.epochs):\n",
        "      with tf.GradientTape() as t:\n",
        "        #print(x_train, self.W1)\n",
        "        hidden_layer = tf.add(tf.matmul(x_train,self.W1),self.b1)\n",
        "        output_layer = tf.nn.softmax(tf.add( tf.matmul(hidden_layer, self.W2), self.b2))\n",
        "        cross_entropy_loss = tf.reduce_mean(-tf.math.reduce_sum(y_train * tf.math.log(output_layer), axis=[1]))\n",
        "      grads = t.gradient(cross_entropy_loss, [self.W1, self.b1, self.W2, self.b2])\n",
        "      self.optimizer.apply_gradients(zip(grads,[self.W1, self.b1, self.W2, self.b2]))\n",
        "      if(_ % 1000 == 0):\n",
        "        print(cross_entropy_loss)\n",
        "  \n",
        "  def vectorized(self, word_idx):\n",
        "    return (self.W1+self.b1)[word_idx]"
      ],
      "execution_count": null,
      "outputs": []
    },
    {
      "cell_type": "code",
      "metadata": {
        "id": "TjPbxrvzCnpR"
      },
      "source": [
        "corpus_raw = \"The indian went to the store to buy food and he was a very good criminal\"\n",
        "# convert to lower case\n",
        "corpus_raw = corpus_raw.lower()\n",
        "# raw sentences is a list of sentences.\n",
        "raw_sentences = corpus_raw.split('.')\n",
        "sentences = []\n",
        "for sentence in raw_sentences:\n",
        "    sentences.append(sentence.split())\n",
        "#sentences:\n",
        "data = []\n",
        "WINDOW_SIZE = 2\n",
        "for sentence in sentences:\n",
        "    for word_index, word in enumerate(sentence):\n",
        "        for nb_word in sentence[max(word_index - WINDOW_SIZE, 0) : min(word_index + WINDOW_SIZE, len(sentence)) + 1] :\n",
        "            if nb_word != word:\n",
        "                data.append([word, nb_word])\n",
        "words = []\n",
        "for word in corpus_raw.split():\n",
        "    if word != '.': # because we don't want to treat . as a word\n",
        "        words.append(word)\n",
        "  \n",
        "words = set(words) # so that all duplicate words are removed\n",
        "word2int = {}\n",
        "int2word = {}\n",
        "vocab_size = len(words) # gives the total number of unique words\n",
        "for i,word in enumerate(words):\n",
        "    word2int[word] = i\n",
        "    int2word[i] = word\n",
        "def to_one_hot(data_point_index, vocab_size):\n",
        "  temp = np.zeros(vocab_size)\n",
        "  temp[data_point_index] = 1\n",
        "  return temp\n",
        "x_train = [] # input word\n",
        "y_train = [] # output word\n",
        "for data_word in data:\n",
        "    x_train.append(to_one_hot(word2int[ data_word[0] ], vocab_size))\n",
        "    y_train.append(to_one_hot(word2int[ data_word[1] ], vocab_size))\n",
        "# convert them to numpy arrays\n",
        "x_train = np.asarray(x_train, dtype='float32')\n",
        "y_train = np.asarray(y_train, dtype='float32')"
      ],
      "execution_count": null,
      "outputs": []
    },
    {
      "cell_type": "code",
      "metadata": {
        "id": "YwaX2D_cDN2c",
        "colab": {
          "base_uri": "https://localhost:8080/"
        },
        "outputId": "1d66d9d4-d20f-4159-a086-10ba5bb144cb"
      },
      "source": [
        "cbow = Word2Vec(vocab_size=vocab_size, optimizer='adam', epochs=10000)\n",
        "cbow.train(x_train, y_train)"
      ],
      "execution_count": null,
      "outputs": [
        {
          "output_type": "stream",
          "name": "stdout",
          "text": [
            "tf.Tensor(8.816945, shape=(), dtype=float32)\n",
            "tf.Tensor(2.3829265, shape=(), dtype=float32)\n",
            "tf.Tensor(1.7946837, shape=(), dtype=float32)\n",
            "tf.Tensor(1.4863819, shape=(), dtype=float32)\n",
            "tf.Tensor(1.396186, shape=(), dtype=float32)\n",
            "tf.Tensor(1.3485827, shape=(), dtype=float32)\n",
            "tf.Tensor(1.334331, shape=(), dtype=float32)\n",
            "tf.Tensor(1.330012, shape=(), dtype=float32)\n",
            "tf.Tensor(1.3283578, shape=(), dtype=float32)\n",
            "tf.Tensor(1.3276052, shape=(), dtype=float32)\n"
          ]
        }
      ]
    },
    {
      "cell_type": "code",
      "metadata": {
        "id": "R3sezRA8Ddrt",
        "colab": {
          "base_uri": "https://localhost:8080/"
        },
        "outputId": "dbe26f9b-1fba-4189-d185-b47850e7fbbe"
      },
      "source": [
        "cbow.vectorized(word2int['criminal'])\n"
      ],
      "execution_count": null,
      "outputs": [
        {
          "output_type": "execute_result",
          "data": {
            "text/plain": [
              "<tf.Tensor: shape=(5,), dtype=float32, numpy=\n",
              "array([-5.0990295 ,  1.1574619 , -0.52969515,  1.1401453 , -0.35821998],\n",
              "      dtype=float32)>"
            ]
          },
          "metadata": {},
          "execution_count": 21
        }
      ]
    },
    {
      "cell_type": "code",
      "metadata": {
        "id": "Uk_sp3yPpqmX"
      },
      "source": [
        ""
      ],
      "execution_count": null,
      "outputs": []
    }
  ]
}