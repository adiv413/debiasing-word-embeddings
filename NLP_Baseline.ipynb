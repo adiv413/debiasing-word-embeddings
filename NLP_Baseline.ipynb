{
  "cells": [
    {
      "cell_type": "code",
      "execution_count": null,
      "metadata": {
        "id": "eUX5jdJRHAEj"
      },
      "outputs": [],
      "source": [
        "# https://petamind.com/word2vec-with-tensorflow-2-0-a-simple-cbow-implementation/"
      ]
    },
    {
      "cell_type": "code",
      "source": [
        "from google.colab import drive\n",
        "drive.mount('/content/drive')"
      ],
      "metadata": {
        "colab": {
          "base_uri": "https://localhost:8080/"
        },
        "id": "YxLCwOd9rmMw",
        "outputId": "2dee870e-c482-4d8e-9395-c5c586064277"
      },
      "execution_count": null,
      "outputs": [
        {
          "output_type": "stream",
          "name": "stdout",
          "text": [
            "Drive already mounted at /content/drive; to attempt to forcibly remount, call drive.mount(\"/content/drive\", force_remount=True).\n"
          ]
        }
      ]
    },
    {
      "cell_type": "code",
      "execution_count": null,
      "metadata": {
        "colab": {
          "base_uri": "https://localhost:8080/"
        },
        "id": "-RbQbEvMHhkl",
        "outputId": "edf678dc-7c64-4b0f-f3e3-feee52d1dee9"
      },
      "outputs": [
        {
          "output_type": "stream",
          "name": "stdout",
          "text": [
            "2.8.0\n"
          ]
        }
      ],
      "source": [
        "from __future__ import absolute_import, division, print_function, unicode_literals\n",
        "try:\n",
        "  # %tensorflow_version only exists in Colab.\n",
        "  %tensorflow_version 2.x\n",
        "except Exception:\n",
        "  pass\n",
        "import tensorflow as tf\n",
        "import numpy as np\n",
        "print(tf.__version__)\n",
        "##Output\n",
        "#TensorFlow 2.x selected.\n",
        "#2.0.0-rc2"
      ]
    },
    {
      "cell_type": "code",
      "execution_count": null,
      "metadata": {
        "id": "EwKbZttyuA5B"
      },
      "outputs": [],
      "source": [
        "class Word2Vec:\n",
        "  def __init__(self, vocab_size=0, embedding_dim=16, optimizer='adam', epochs=1):\n",
        "    self.vocab_size=vocab_size\n",
        "    self.embedding_dim=5\n",
        "    self.epochs=epochs\n",
        "    if optimizer=='adam':\n",
        "      self.optimizer = tf.optimizers.Adam()\n",
        "    else:\n",
        "      self.optimizer = tf.optimizers.SGD(learning_rate=1)\n",
        "\n",
        "    self.W1 = tf.Variable(tf.random.normal([self.vocab_size, self.embedding_dim]))\n",
        "    self.b1 = tf.Variable(tf.random.normal([self.embedding_dim])) #bias\n",
        "    self.W2 = tf.Variable(tf.random.normal([self.embedding_dim, self.vocab_size]))\n",
        "    self.b2 = tf.Variable(tf.random.normal([self.vocab_size]))\n",
        "\n",
        "    self.checkpoint = tf.train.Checkpoint(w_1=self.W1, b_1=self.b1, w_2=self.W2, b_2=self.b2)\n",
        "\n",
        "  def getSentiment(words):\n",
        "    \n",
        "\n",
        "  def train(self, x_train=None, y_train=None):\n",
        "    for _ in range(1, self.epochs + 1):\n",
        "      with tf.GradientTape() as t:\n",
        "        #print(x_train, self.W1)\n",
        "        hidden_layer = tf.add(tf.matmul(x_train,self.W1),self.b1)\n",
        "        output_layer = tf.nn.softmax(tf.add( tf.matmul(hidden_layer, self.W2), self.b2))\n",
        "        cross_entropy_loss = tf.reduce_mean(-tf.math.reduce_sum(y_train * tf.math.log(output_layer), axis=[1]))\n",
        "      grads = t.gradient(cross_entropy_loss, [self.W1, self.b1, self.W2, self.b2])\n",
        "      self.optimizer.apply_gradients(zip(grads,[self.W1, self.b1, self.W2, self.b2]))\n",
        "      if(_ % (self.epochs - 2) == 0):\n",
        "        print(cross_entropy_loss)\n",
        "  \n",
        "  def vectorized(self, word_idx):\n",
        "    return (self.W1+self.b1)[word_idx]\n",
        "\n",
        "  def save_variables(self):\n",
        "    self.checkpoint.save('./checkpoint')\n",
        "\n",
        "  def restore_variables(self):\n",
        "    status = self.checkpoint.restore(tf.train.latest_checkpoint('.'))\n",
        "    status.assert_consumed()  # Optional check\n",
        "\n",
        "  "
      ]
    },
    {
      "cell_type": "code",
      "source": [
        "def to_one_hot(data_points, vocab_size):\n",
        "  temp = np.zeros(vocab_size)\n",
        "  for i in data_points:\n",
        "    temp[i] = 1\n",
        "  return temp\n",
        "\n",
        "stopwords = {'a', 'about', 'above', 'across', 'after', 'again', 'against', 'all', 'almost', 'alone', 'along', 'already', 'also', 'although', 'always', 'among', 'an', 'and', 'another', 'any', 'anybody', 'anyone', 'anything', 'anywhere', 'are', 'area', 'areas', 'around', 'as', 'ask', 'asked', 'asking', 'asks', 'at', 'away', 'b', 'back', 'backed', 'backing', 'backs', 'be', 'became', 'because', 'become', 'becomes', 'been', 'before', 'began', 'behind', 'being', 'beings', 'best', 'better', 'between', 'big', 'both', 'but', 'by', 'c', 'came', 'can', 'cannot', 'case', 'cases', 'certain', 'certainly', 'clear', 'clearly', 'come', 'could', 'd', 'did', 'differ', 'different', 'differently', 'do', 'does', 'done', 'down', 'down', 'downed', 'downing', 'downs', 'during', 'e', 'each', 'early', 'either', 'end', 'ended', 'ending', 'ends', 'enough', 'even', 'evenly', 'ever', 'every', 'everybody', 'everyone', 'everything', 'everywhere', 'f', 'face', 'faces', 'fact', 'facts', 'far', 'felt', 'few', 'find', 'finds', 'first', 'for', 'four', 'from', 'full', 'fully', 'further', 'furthered', 'furthering', 'furthers', 'g', 'gave', 'general', 'generally', 'get', 'gets', 'give', 'given', 'gives', 'go', 'going', 'good', 'goods', 'got', 'great', 'greater', 'greatest', 'group', 'grouped', 'grouping', 'groups', 'h', 'had', 'has', 'have', 'having', 'he', 'her', 'here', 'herself', 'high', 'high', 'high', 'higher', 'highest', 'him', 'himself', 'his', 'how', 'however', 'i', 'if', 'important', 'in', 'interest', 'interested', 'interesting', 'interests', 'into', 'is', 'it', 'its', 'itself', 'j', 'just', 'k', 'keep', 'keeps', 'kind', 'knew', 'know', 'known', 'knows', 'l', 'large', 'largely', 'last', 'later', 'latest', 'least', 'less', 'let', 'lets', 'like', 'likely', 'long', 'longer', 'longest', 'm', 'made', 'make', 'making', 'man', 'many', 'may', 'me', 'member', 'members', 'men', 'might', 'more', 'most', 'mostly', 'mr', 'mrs', 'much', 'must', 'my', 'myself', 'n', 'necessary', 'need', 'needed', 'needing', 'needs', 'never', 'new', 'new', 'newer', 'newest', 'next', 'no', 'nobody', 'non', 'noone', 'not', 'nothing', 'now', 'nowhere', 'number', 'numbers', 'o', 'of', 'off', 'often', 'old', 'older', 'oldest', 'on', 'once', 'one', 'only', 'open', 'opened', 'opening', 'opens', 'or', 'order', 'ordered', 'ordering', 'orders', 'other', 'others', 'our', 'out', 'over', 'p', 'part', 'parted', 'parting', 'parts', 'per', 'perhaps', 'place', 'places', 'point', 'pointed', 'pointing', 'points', 'possible', 'present', 'presented', 'presenting', 'presents', 'problem', 'problems', 'put', 'puts', 'q', 'quite', 'r', 'rather', 'really', 'right', 'right', 'room', 'rooms', 's', 'said', 'same', 'saw', 'say', 'says', 'second', 'seconds', 'see', 'seem', 'seemed', 'seeming', 'seems', 'sees', 'several', 'shall', 'she', 'should', 'show', 'showed', 'showing', 'shows', 'side', 'sides', 'since', 'small', 'smaller', 'smallest', 'so', 'some', 'somebody', 'someone', 'something', 'somewhere', 'state', 'states', 'still', 'still', 'such', 'sure', 't', 'take', 'taken', 'than', 'that', 'the', 'their', 'them', 'then', 'there', 'therefore', 'these', 'they', 'thing', 'things', 'think', 'thinks', 'this', 'those', 'though', 'thought', 'thoughts', 'three', 'through', 'thus', 'to', 'today', 'together', 'too', 'took', 'toward', 'turn', 'turned', 'turning', 'turns', 'two', 'u', 'under', 'until', 'up', 'upon', 'us', 'use', 'used', 'uses', 'v', 'very', 'w', 'want', 'wanted', 'wanting', 'wants', 'was', 'way', 'ways', 'we', 'well', 'wells', 'went', 'were', 'what', 'when', 'where', 'whether', 'which', 'while', 'who', 'whole', 'whose', 'why', 'will', 'with', 'within', 'without', 'work', 'worked', 'working', 'works', 'would', 'x', 'y', 'year', 'years', 'yet', 'you', 'young', 'younger', 'youngest', 'your', 'yours', 'z'}"
      ],
      "metadata": {
        "id": "UWiSn-SGy0AU"
      },
      "execution_count": null,
      "outputs": []
    },
    {
      "cell_type": "code",
      "source": [
        "import re\n",
        "import os\n",
        "import numpy as np\n",
        "import time\n",
        "from math import ceil\n",
        "\n",
        "count = 0\n",
        "max_num_lines = 100\n",
        "words = set()\n",
        "\n",
        "with open(\"drive/MyDrive/wiki_corpus.txt\", encoding=\"utf-8\", errors=\"ignore\") as infile:\n",
        "    for line in infile:\n",
        "      if count >= max_num_lines:\n",
        "          break\n",
        "\n",
        "      corpus_raw = line.replace(\"'\", \"\")\n",
        "      corpus_raw = corpus_raw.replace('\"', \"\")\n",
        "      pattern = re.compile('[\\W_-–]+')\n",
        "      pattern.sub('', corpus_raw)\n",
        "\n",
        "      # print(corpus_raw)\n",
        "\n",
        "      # convert to lower case\n",
        "      corpus_raw = corpus_raw.lower()\n",
        "      # raw sentences is a list of sentences.\n",
        "      raw_sentences_no_stopword_filter = corpus_raw.split('.')\n",
        "\n",
        "      processed_sentences = []\n",
        "      for phrase in raw_sentences_no_stopword_filter:\n",
        "        new_phrase = [word for word in phrase.split() if word not in stopwords]\n",
        "        processed_sentences.append(new_phrase)  \n",
        "\n",
        "      \n",
        "      for sentence in processed_sentences:\n",
        "          for word in sentence:\n",
        "              if word and word not in words:\n",
        "                words.add(word)\n",
        "                \n",
        "      count += 1"
      ],
      "metadata": {
        "id": "0_HzDDLzFd0Q"
      },
      "execution_count": null,
      "outputs": []
    },
    {
      "cell_type": "code",
      "execution_count": null,
      "metadata": {
        "id": "TjPbxrvzCnpR",
        "colab": {
          "base_uri": "https://localhost:8080/"
        },
        "outputId": "878c3be7-e30b-425a-bce7-61652282d1d2"
      },
      "outputs": [
        {
          "output_type": "stream",
          "name": "stdout",
          "text": [
            "1871\n",
            "0 0 0\n"
          ]
        }
      ],
      "source": [
        "lines = []\n",
        "count = 0\n",
        "# vocab_size = 30039    # actual vocab size\n",
        "vocab_size = len(words) + 1\n",
        "word2int = {}\n",
        "int2word = {}\n",
        "WINDOW_SIZE = 5\n",
        "\n",
        "t = 0\n",
        "t1 = 0\n",
        "t2 = 0\n",
        "print(vocab_size)\n",
        "cbow = Word2Vec(vocab_size=vocab_size, optimizer='adam', epochs=500)\n",
        "\n",
        "RESTORE_FROM_CHECKPOINT = True\n",
        "\n",
        "if RESTORE_FROM_CHECKPOINT:\n",
        "  cbow.restore_variables()\n",
        "\n",
        "with open(\"drive/MyDrive/wiki_corpus.txt\", encoding=\"utf-8\", errors=\"ignore\") as infile:\n",
        "    for line in infile:\n",
        "      s = time.time()\n",
        "      if count >= max_num_lines:\n",
        "          break\n",
        "\n",
        "      corpus_raw = line.replace(\"'\", \"\")\n",
        "      corpus_raw = corpus_raw.replace('\"', \"\")\n",
        "      pattern = re.compile('[\\W_-–]+')\n",
        "      pattern.sub('', corpus_raw)\n",
        "\n",
        "      # print(corpus_raw)\n",
        "\n",
        "      # convert to lower case\n",
        "      corpus_raw = corpus_raw.lower()\n",
        "      # raw sentences is a list of sentences.\n",
        "      raw_sentences_no_stopword_filter = corpus_raw.split('.')\n",
        "\n",
        "      processed_sentences = []\n",
        "      for phrase in raw_sentences_no_stopword_filter:\n",
        "        new_phrase = [word for word in phrase.split() if word not in stopwords]\n",
        "        processed_sentences.append(new_phrase)  \n",
        "\n",
        "      for sentence in processed_sentences:\n",
        "          for word in sentence:\n",
        "              if word and word not in word2int:\n",
        "                word2int[word] = len(word2int)\n",
        "                int2word[len(int2word)] = word\n",
        "\n",
        "      if len(word2int) >= vocab_size:\n",
        "        break\n",
        "\n",
        "      if not RESTORE_FROM_CHECKPOINT:\n",
        "        t += time.time() - s\n",
        "        for sentence in processed_sentences[:100]:\n",
        "          s = time.time()\n",
        "          # print(sentence)\n",
        "\n",
        "          #sentences:\n",
        "          data = []\n",
        "          for word_index, word in enumerate(sentence):\n",
        "              prediction_words = [word2int[i] for i in sentence[max(0, word_index - int(WINDOW_SIZE/2)) : min(len(sentence), word_index + ceil(WINDOW_SIZE/2))] if i != word]\n",
        "              data.append([prediction_words, [word2int[word]]])\n",
        "          \n",
        "          x_train = [] # input word\n",
        "          y_train = [] # output word\n",
        "\n",
        "          for data_word in data:\n",
        "              x_train.append(to_one_hot(data_word[0], vocab_size))\n",
        "              y_train.append(to_one_hot(data_word[1], vocab_size))\n",
        "\n",
        "          # convert them to numpy arrays\n",
        "          x_train = np.asarray(x_train, dtype='float32')\n",
        "          y_train = np.asarray(y_train, dtype='float32')\n",
        "\n",
        "          t1 += time.time() - s\n",
        "\n",
        "          try:\n",
        "            s = time.time()\n",
        "            cbow.train(x_train, y_train)\n",
        "            t2 += time.time() - s\n",
        "          except:\n",
        "            continue\n",
        "\n",
        "        count += 1\n",
        "        cbow.save_variables()\n",
        "\n",
        "print(t, t1, t2)"
      ]
    },
    {
      "cell_type": "code",
      "execution_count": null,
      "metadata": {
        "id": "R3sezRA8Ddrt",
        "colab": {
          "base_uri": "https://localhost:8080/"
        },
        "outputId": "7fb55b14-5afd-4e53-c46d-17a68762eaee"
      },
      "outputs": [
        {
          "output_type": "stream",
          "name": "stdout",
          "text": [
            "tf.Tensor(0.6967938, shape=(), dtype=float32)\n",
            "tf.Tensor([ 1.0164882  1.6648552  1.7997178  0.5370619 -1.9570438], shape=(5,), dtype=float32)\n",
            "tf.Tensor([ 3.4668772  1.0361478 -0.0431245  2.3106601 -2.8602724], shape=(5,), dtype=float32)\n",
            "tf.Tensor(13.757219, shape=(), dtype=float32)\n"
          ]
        }
      ],
      "source": [
        "criminal_vector = cbow.vectorized(word2int['black'])\n",
        "black_vector = cbow.vectorized(word2int['white'])\n",
        "\n",
        "normalize_a = tf.nn.l2_normalize(criminal_vector,0)        \n",
        "normalize_b = tf.nn.l2_normalize(black_vector,0)\n",
        "cos_similarity=tf.reduce_sum(tf.multiply(normalize_a,normalize_b))\n",
        "print(cos_similarity)\n",
        "print(criminal_vector)\n",
        "print(black_vector)\n",
        "dist = tf.reduce_sum(tf.square(criminal_vector-black_vector))\n",
        "print(dist)"
      ]
    },
    {
      "cell_type": "code",
      "source": [
        "import nltk\n",
        "nltk.download('vader_lexicon')\n",
        "from nltk.sentiment.vader import SentimentIntensityAnalyzer"
      ],
      "metadata": {
        "colab": {
          "base_uri": "https://localhost:8080/"
        },
        "id": "3y5D9XXQatxV",
        "outputId": "99ceaa1a-1d5b-4970-83e2-33aa76d86e9f"
      },
      "execution_count": null,
      "outputs": [
        {
          "output_type": "stream",
          "name": "stdout",
          "text": [
            "[nltk_data] Downloading package vader_lexicon to /root/nltk_data...\n"
          ]
        }
      ]
    },
    {
      "cell_type": "code",
      "source": [
        "sid = SentimentIntensityAnalyzer()\n",
        "sentiment_dict = sid.polarity_scores(\"White people are racist\")\n",
        "print(sentiment_dict)"
      ],
      "metadata": {
        "colab": {
          "base_uri": "https://localhost:8080/"
        },
        "id": "z6l2hfhnaw7P",
        "outputId": "97085336-3f07-476a-940f-0cd9124961ed"
      },
      "execution_count": null,
      "outputs": [
        {
          "output_type": "stream",
          "name": "stdout",
          "text": [
            "{'neg': 0.571, 'neu': 0.429, 'pos': 0.0, 'compound': -0.6124}\n"
          ]
        }
      ]
    },
    {
      "cell_type": "code",
      "source": [
        ""
      ],
      "metadata": {
        "id": "sOHtiR6Lbs07"
      },
      "execution_count": null,
      "outputs": []
    }
  ],
  "metadata": {
    "colab": {
      "collapsed_sections": [],
      "name": "NLP_Baseline.ipynb",
      "provenance": []
    },
    "kernelspec": {
      "display_name": "Python 3",
      "name": "python3"
    },
    "language_info": {
      "codemirror_mode": {
        "name": "ipython",
        "version": 3
      },
      "file_extension": ".py",
      "mimetype": "text/x-python",
      "name": "python",
      "nbconvert_exporter": "python",
      "pygments_lexer": "ipython3",
      "version": "3.9.1"
    },
    "accelerator": "GPU"
  },
  "nbformat": 4,
  "nbformat_minor": 0
}